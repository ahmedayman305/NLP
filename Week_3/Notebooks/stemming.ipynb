{
 "cells": [
  {
   "cell_type": "code",
   "execution_count": 29,
   "metadata": {},
   "outputs": [
    {
     "name": "stderr",
     "output_type": "stream",
     "text": [
      "[nltk_data] Downloading package wordnet to\n",
      "[nltk_data]     C:\\Users\\aakam\\AppData\\Roaming\\nltk_data...\n"
     ]
    },
    {
     "data": {
      "text/plain": [
       "True"
      ]
     },
     "execution_count": 29,
     "metadata": {},
     "output_type": "execute_result"
    }
   ],
   "source": [
    "import nltk\n",
    "from nltk.stem import PorterStemmer , LancasterStemmer , WordNetLemmatizer \n",
    "from nltk.stem.snowball import SnowballStemmer \n",
    "from nltk.tokenize import sent_tokenize, word_tokenize \n",
    "import spacy\n",
    "\n",
    "nlp = spacy.load('en_core_web_sm') \n",
    "nltk.download(\"wordnet\")"
   ]
  },
  {
   "cell_type": "code",
   "execution_count": 16,
   "metadata": {},
   "outputs": [
    {
     "name": "stdout",
     "output_type": "stream",
     "text": [
      "run --> run\n",
      "runner --> runner\n",
      "running --> run\n",
      "ran --> ran\n",
      "runs --> run\n",
      "easily --> easili\n",
      "fairly --> fairli\n"
     ]
    }
   ],
   "source": [
    "p_stemmer = PorterStemmer()\n",
    "\n",
    "words = ['run','runner','running','ran','runs','easily','fairly'] \n",
    "for word in words: \n",
    "    print(word+' --> '+p_stemmer.stem(word)) "
   ]
  },
  {
   "cell_type": "code",
   "execution_count": 6,
   "metadata": {},
   "outputs": [
    {
     "name": "stdout",
     "output_type": "stream",
     "text": [
      "run --> run\n",
      "runner --> runner\n",
      "running --> run\n",
      "ran --> ran\n",
      "runs --> run\n",
      "easily --> easili\n",
      "fairly --> fair\n"
     ]
    }
   ],
   "source": [
    "s_stemmer = SnowballStemmer(language='english') \n",
    "words = ['run','runner','running','ran','runs','easily','fairly'] \n",
    "for word in words: \n",
    "    print(word+' --> '+s_stemmer.stem(word))"
   ]
  },
  {
   "cell_type": "code",
   "execution_count": 7,
   "metadata": {},
   "outputs": [
    {
     "name": "stdout",
     "output_type": "stream",
     "text": [
      "generous --> generous\n",
      "generation --> generat\n",
      "generously --> generous\n",
      "generate --> generat\n"
     ]
    }
   ],
   "source": [
    "words = ['generous','generation','generously','generate'] \n",
    "for word in words: \n",
    "    print(word+' --> '+s_stemmer.stem(word))"
   ]
  },
  {
   "cell_type": "code",
   "execution_count": null,
   "metadata": {},
   "outputs": [
    {
     "name": "stdout",
     "output_type": "stream",
     "text": [
      "is\n",
      "wa\n",
      "be\n",
      "been\n",
      "are\n",
      "were\n"
     ]
    }
   ],
   "source": [
    "ps = PorterStemmer() \n",
    "\n",
    "words = [\"is\",\"was\",\"be\",\"been\",\"are\",\"were\"] \n",
    "\n",
    "for w in words: \n",
    "    print(ps.stem(w)) "
   ]
  },
  {
   "cell_type": "code",
   "execution_count": 11,
   "metadata": {},
   "outputs": [
    {
     "name": "stdout",
     "output_type": "stream",
     "text": [
      "is\n",
      "was\n",
      "be\n",
      "been\n",
      "ar\n",
      "wer\n"
     ]
    }
   ],
   "source": [
    "ls =  LancasterStemmer() \n",
    "\n",
    "for w in words: \n",
    "    print(ls.stem(w))"
   ]
  },
  {
   "cell_type": "code",
   "execution_count": 12,
   "metadata": {},
   "outputs": [
    {
     "name": "stdout",
     "output_type": "stream",
     "text": [
      "book\n",
      "book\n",
      "book\n",
      "book\n",
      "booker\n",
      "bookstor\n",
      "book\n",
      "book\n",
      "book\n",
      "book\n",
      "book\n",
      "bookst\n"
     ]
    }
   ],
   "source": [
    "words = [\"book\",\"booking\",\"booked\",\"books\",\"booker\",\"bookstore\"] \n",
    "for w in words: \n",
    "    print(ps.stem(w)) \n",
    "for w in words: \n",
    "    print(ls.stem(w))   "
   ]
  },
  {
   "cell_type": "code",
   "execution_count": 13,
   "metadata": {},
   "outputs": [
    {
     "name": "stdout",
     "output_type": "stream",
     "text": [
      "had\n",
      "you\n",
      "book\n",
      "the\n",
      "air\n",
      "book\n",
      "yet\n",
      "?\n",
      "if\n",
      "not\n",
      "tri\n",
      "to\n",
      "book\n",
      "it\n",
      "asap\n",
      "sinc\n",
      "book\n",
      "will\n",
      "be\n",
      "out\n",
      "of\n",
      "book\n"
     ]
    }
   ],
   "source": [
    "sentence = 'had you booked the air booking yet ? if not try to book it ASAP since \\\n",
    "booking will be out of books' \n",
    "words = word_tokenize(sentence) \n",
    "for w in words: \n",
    "    print(ps.stem(w))"
   ]
  },
  {
   "cell_type": "code",
   "execution_count": 14,
   "metadata": {},
   "outputs": [
    {
     "name": "stdout",
     "output_type": "stream",
     "text": [
      "Word                Porter Stemmer      lancaster Stemmer   \n",
      "friend              friend              friend              \n",
      "friendship          friendship          friend              \n",
      "friends             friend              friend              \n",
      "friendships         friendship          friend              \n",
      "stabil              stabil              stabl               \n",
      "destabilize         destabil            dest                \n",
      "misunderstanding    misunderstand       misunderstand       \n",
      "railroad            railroad            railroad            \n",
      "moonlight           moonlight           moonlight           \n",
      "football            footbal             footbal             \n"
     ]
    }
   ],
   "source": [
    "word_list = [\n",
    "            \"friend\", \"friendship\", \"friends\", \n",
    "            \"friendships\",\"stabil\",\"destabilize\",\"misunderstanding\",\n",
    "            \"railroad\",\"moonlight\",\"football\"\n",
    "        ] \n",
    "\n",
    "print(\"{0:20}{1:20}{2:20}\".format(\"Word\",\"Porter Stemmer\",\"lancaster Stemmer\")) \n",
    "for word in word_list: \n",
    "    print(\"{0:20}{1:20}{2:20}\".format(word,ps.stem(word),ls.stem(word)))"
   ]
  },
  {
   "cell_type": "code",
   "execution_count": 30,
   "metadata": {},
   "outputs": [
    {
     "name": "stdout",
     "output_type": "stream",
     "text": [
      "cat\n",
      "cactus\n",
      "radius\n",
      "foot\n",
      "speech\n",
      "runner\n"
     ]
    }
   ],
   "source": [
    "lemmatizer = WordNetLemmatizer() \n",
    "words = [\"cats\",\"cacti\",\"radii\",\"feet\",\"speech\",'runner'] \n",
    " \n",
    "for word in words :  \n",
    "    print(lemmatizer.lemmatize(word))"
   ]
  },
  {
   "cell_type": "code",
   "execution_count": null,
   "metadata": {},
   "outputs": [],
   "source": [
    "def show_lemmas(text): \n",
    "    for token in text: \n",
    "        print(f'{token.text:{20}} \\t {token.pos_:{20}} \\t {token.lemma:<{25}} \\t {token.lemma_}') "
   ]
  },
  {
   "cell_type": "code",
   "execution_count": 24,
   "metadata": {},
   "outputs": [
    {
     "name": "stdout",
     "output_type": "stream",
     "text": [
      "I                    \t PRON                 \t 4690420944186131903       \t I\n",
      "am                   \t AUX                  \t 10382539506755952630      \t be\n",
      "a                    \t DET                  \t 11901859001352538922      \t a\n",
      "runner               \t NOUN                 \t 12640964157389618806      \t runner\n",
      "running              \t VERB                 \t 12767647472892411841      \t run\n",
      "in                   \t ADP                  \t 3002984154512732771       \t in\n",
      "a                    \t DET                  \t 11901859001352538922      \t a\n",
      "race                 \t NOUN                 \t 8048469955494714898       \t race\n",
      "because              \t SCONJ                \t 16950148841647037698      \t because\n",
      "I                    \t PRON                 \t 4690420944186131903       \t I\n",
      "love                 \t VERB                 \t 3702023516439754181       \t love\n",
      "to                   \t PART                 \t 3791531372978436496       \t to\n",
      "run                  \t VERB                 \t 12767647472892411841      \t run\n",
      "since                \t SCONJ                \t 10066841407251338481      \t since\n",
      "I                    \t PRON                 \t 4690420944186131903       \t I\n",
      "ran                  \t VERB                 \t 12767647472892411841      \t run\n",
      "today                \t NOUN                 \t 11042482332948150395      \t today\n"
     ]
    }
   ],
   "source": [
    "doc1 = nlp(u\"I am a runner running in a race because I love to run since I ran today\") \n",
    "\n",
    "for token in doc1: \n",
    "    print(f'{token.text:{20}} \\t {token.pos_:{20}} \\t {token.lemma:<{25}} \\t {token.lemma_}') \n"
   ]
  },
  {
   "cell_type": "code",
   "execution_count": 25,
   "metadata": {},
   "outputs": [
    {
     "name": "stdout",
     "output_type": "stream",
     "text": [
      "I                    \t PRON                 \t 4690420944186131903       \t I\n",
      "saw                  \t VERB                 \t 11925638236994514241      \t see\n",
      "eighteen             \t NUM                  \t 9609336664675087640       \t eighteen\n",
      "mice                 \t NOUN                 \t 1384165645700560590       \t mouse\n",
      "today                \t NOUN                 \t 11042482332948150395      \t today\n",
      "!                    \t PUNCT                \t 17494803046312582752      \t !\n",
      "I                    \t PRON                 \t 4690420944186131903       \t I\n",
      "am                   \t AUX                  \t 10382539506755952630      \t be\n",
      "meeting              \t VERB                 \t 6880656908171229526       \t meet\n",
      "him                  \t PRON                 \t 1655312771067108281       \t he\n",
      "tomorrow             \t NOUN                 \t 3573583789758258062       \t tomorrow\n",
      "at                   \t ADP                  \t 11667289587015813222      \t at\n",
      "the                  \t DET                  \t 7425985699627899538       \t the\n",
      "meeting              \t NOUN                 \t 14798207169164081740      \t meeting\n",
      ".                    \t PUNCT                \t 12646065887601541794      \t .\n"
     ]
    }
   ],
   "source": [
    "doc2 = nlp(u\"I saw eighteen mice today!\") \n",
    "show_lemmas(doc2) \n",
    "doc3 = nlp(u\"I am meeting him tomorrow at the meeting.\") \n",
    "show_lemmas(doc3) "
   ]
  }
 ],
 "metadata": {
  "kernelspec": {
   "display_name": "Python 3",
   "language": "python",
   "name": "python3"
  },
  "language_info": {
   "codemirror_mode": {
    "name": "ipython",
    "version": 3
   },
   "file_extension": ".py",
   "mimetype": "text/x-python",
   "name": "python",
   "nbconvert_exporter": "python",
   "pygments_lexer": "ipython3",
   "version": "3.10.13"
  }
 },
 "nbformat": 4,
 "nbformat_minor": 2
}
