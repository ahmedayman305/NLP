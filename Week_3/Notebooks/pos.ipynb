{
 "cells": [
  {
   "cell_type": "code",
   "execution_count": null,
   "metadata": {},
   "outputs": [],
   "source": [
    "# English Article 1\n",
    "article_1 = \"\"\"Technology is evolving rapidly; every day, we witness new advancements in artificial intelligence, robotics, and data science. \n",
    "The question is: are we ready for such changes? Many experts believe that automation will replace millions of jobs—some say this is a threat, while others see it as an opportunity! \n",
    "Nevertheless, innovation continues: new industries are emerging, and with them, new career paths are being created.\"\"\"\n",
    "\n",
    "# English Article 2\n",
    "article_2 = \"\"\"History has taught us valuable lessons—some we remember, others we repeat! \n",
    "Take, for example, the rise and fall of ancient civilizations: the Roman Empire, the Maya, and even the Egyptian dynasties. \n",
    "What led to their decline? Was it internal corruption, external invasion, or simply the passage of time? \n",
    "Regardless, one thing remains certain: no empire lasts forever!\"\"\"\n",
    "\n",
    "# Arabic Article 1\n",
    "article_3 = \"\"\"التكنولوجيا تتطور بسرعة؛ نشهد كل يوم تطورات جديدة في الذكاء الاصطناعي، والروبوتات، وعلم البيانات. \n",
    "السؤال هو: هل نحن مستعدون لهذه التغيرات؟ يعتقد العديد من الخبراء أن الأتمتة ستحل محل ملايين الوظائف—البعض يراها تهديدًا، بينما يراها آخرون فرصة! \n",
    "ومع ذلك، تستمر الابتكارات: تنشأ صناعات جديدة، ومعها تُخلق مسارات وظيفية حديثة.\"\"\"\n",
    "\n",
    "# Arabic Article 2\n",
    "article_4 = \"\"\"علمتنا التاريخ دروسًا قيّمة—بعضها نتذكره، وبعضها نعيد تكراره! \n",
    "خذ على سبيل المثال صعود وسقوط الحضارات القديمة: الإمبراطورية الرومانية، والمايا، وحتى السلالات المصرية. \n",
    "ما الذي أدى إلى انهيارها؟ هل كان الفساد الداخلي، أم الغزو الخارجي، أم مجرد مرور الزمن؟ \n",
    "بغض النظر، هناك شيء واحد مؤكد: لا إمبراطورية تدوم للأبد!\"\"\"\n"
   ]
  }
 ],
 "metadata": {
  "language_info": {
   "name": "python"
  }
 },
 "nbformat": 4,
 "nbformat_minor": 2
}
